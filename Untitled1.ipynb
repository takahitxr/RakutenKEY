{
 "cells": [
  {
   "cell_type": "code",
   "execution_count": 2,
   "id": "2756de61-3256-409f-9c69-ecea724562a2",
   "metadata": {},
   "outputs": [
    {
     "name": "stderr",
     "output_type": "stream",
     "text": [
      "C:\\Users\\txrkc\\anaconda3\\lib\\site-packages\\numpy\\__init__.py:143: UserWarning: mkl-service package failed to import, therefore Intel(R) MKL initialization ensuring its correct out-of-the box operation under condition when Gnu OpenMP had already been loaded by Python process is not assured. Please install mkl-service package, see http://github.com/IntelPython/mkl-service\n",
      "  from . import _distributor_init\n"
     ]
    },
    {
     "ename": "ImportError",
     "evalue": "Unable to import required dependencies:\nnumpy: \n\nIMPORTANT: PLEASE READ THIS FOR ADVICE ON HOW TO SOLVE THIS ISSUE!\n\nImporting the numpy C-extensions failed. This error can happen for\nmany reasons, often due to issues with your setup or how NumPy was\ninstalled.\n\nWe have compiled some common reasons and troubleshooting tips at:\n\n    https://numpy.org/devdocs/user/troubleshooting-importerror.html\n\nPlease note and check the following:\n\n  * The Python version is: Python3.9 from \"C:\\Users\\txrkc\\anaconda3\\python.exe\"\n  * The NumPy version is: \"1.20.3\"\n\nand make sure that they are the versions you expect.\nPlease carefully study the documentation linked above for further help.\n\nOriginal error was: DLL load failed while importing _multiarray_umath: 指定されたモジュールが見つかりません。\n",
     "output_type": "error",
     "traceback": [
      "\u001b[1;31m---------------------------------------------------------------------------\u001b[0m",
      "\u001b[1;31mImportError\u001b[0m                               Traceback (most recent call last)",
      "\u001b[1;32m~\\AppData\\Local\\Temp/ipykernel_23260/4166984087.py\u001b[0m in \u001b[0;36m<module>\u001b[1;34m\u001b[0m\n\u001b[0;32m      5\u001b[0m \u001b[1;32mfrom\u001b[0m \u001b[0mselenium\u001b[0m\u001b[1;33m.\u001b[0m\u001b[0mwebdriver\u001b[0m\u001b[1;33m.\u001b[0m\u001b[0mchrome\u001b[0m\u001b[1;33m.\u001b[0m\u001b[0moptions\u001b[0m \u001b[1;32mimport\u001b[0m \u001b[0mOptions\u001b[0m\u001b[1;33m\u001b[0m\u001b[1;33m\u001b[0m\u001b[0m\n\u001b[0;32m      6\u001b[0m \u001b[1;31m# from oauth2client.service_account import ServiceAccountCredentials\u001b[0m\u001b[1;33m\u001b[0m\u001b[1;33m\u001b[0m\u001b[0m\n\u001b[1;32m----> 7\u001b[1;33m \u001b[1;32mimport\u001b[0m \u001b[0mpandas\u001b[0m \u001b[1;32mas\u001b[0m \u001b[0mpd\u001b[0m\u001b[1;33m\u001b[0m\u001b[1;33m\u001b[0m\u001b[0m\n\u001b[0m\u001b[0;32m      8\u001b[0m \u001b[1;32mimport\u001b[0m \u001b[0mtime\u001b[0m\u001b[1;33m\u001b[0m\u001b[1;33m\u001b[0m\u001b[0m\n\u001b[0;32m      9\u001b[0m \u001b[1;32mimport\u001b[0m \u001b[0mdatetime\u001b[0m\u001b[1;33m\u001b[0m\u001b[1;33m\u001b[0m\u001b[0m\n",
      "\u001b[1;32m~\\anaconda3\\lib\\site-packages\\pandas\\__init__.py\u001b[0m in \u001b[0;36m<module>\u001b[1;34m\u001b[0m\n\u001b[0;32m     14\u001b[0m \u001b[1;33m\u001b[0m\u001b[0m\n\u001b[0;32m     15\u001b[0m \u001b[1;32mif\u001b[0m \u001b[0mmissing_dependencies\u001b[0m\u001b[1;33m:\u001b[0m\u001b[1;33m\u001b[0m\u001b[1;33m\u001b[0m\u001b[0m\n\u001b[1;32m---> 16\u001b[1;33m     raise ImportError(\n\u001b[0m\u001b[0;32m     17\u001b[0m         \u001b[1;34m\"Unable to import required dependencies:\\n\"\u001b[0m \u001b[1;33m+\u001b[0m \u001b[1;34m\"\\n\"\u001b[0m\u001b[1;33m.\u001b[0m\u001b[0mjoin\u001b[0m\u001b[1;33m(\u001b[0m\u001b[0mmissing_dependencies\u001b[0m\u001b[1;33m)\u001b[0m\u001b[1;33m\u001b[0m\u001b[1;33m\u001b[0m\u001b[0m\n\u001b[0;32m     18\u001b[0m     )\n",
      "\u001b[1;31mImportError\u001b[0m: Unable to import required dependencies:\nnumpy: \n\nIMPORTANT: PLEASE READ THIS FOR ADVICE ON HOW TO SOLVE THIS ISSUE!\n\nImporting the numpy C-extensions failed. This error can happen for\nmany reasons, often due to issues with your setup or how NumPy was\ninstalled.\n\nWe have compiled some common reasons and troubleshooting tips at:\n\n    https://numpy.org/devdocs/user/troubleshooting-importerror.html\n\nPlease note and check the following:\n\n  * The Python version is: Python3.9 from \"C:\\Users\\txrkc\\anaconda3\\python.exe\"\n  * The NumPy version is: \"1.20.3\"\n\nand make sure that they are the versions you expect.\nPlease carefully study the documentation linked above for further help.\n\nOriginal error was: DLL load failed while importing _multiarray_umath: 指定されたモジュールが見つかりません。\n"
     ]
    }
   ],
   "source": [
    "import requests\n",
    "from bs4 import BeautifulSoup as bs\n",
    "from selenium import webdriver\n",
    "from webdriver_manager.chrome import ChromeDriverManager\n",
    "from selenium.webdriver.chrome.options import Options\n",
    "# from oauth2client.service_account import ServiceAccountCredentials\n",
    "import pandas as pd\n",
    "import time\n",
    "import datetime\n",
    "import gspread\n",
    "import json\n",
    "\n",
    "# scope = ['https://spreadsheets.google.com/feeds','https://www.googleapis.com/auth/drive']\n",
    "# credentials = ServiceAccountCredentials.from_json_keyfile_name('angular-spider-312007-557058f7d529.json', scope)\n",
    "# gc = gspread.authorize(credentials)\n",
    "\n",
    "# SPREADSHEET_KEY = '1DNx5LcmrJyoxLKJM6qhasfM4CxlWOG9Yn1xmMUe2aDo'\n",
    "# sheet = gc.open_by_key(SPREADSHEET_KEY).worksheet('シート3')"
   ]
  },
  {
   "cell_type": "code",
   "execution_count": 22,
   "id": "0705cdd9-637d-4f97-9d47-fdc81ea449f7",
   "metadata": {
    "tags": []
   },
   "outputs": [
    {
     "name": "stderr",
     "output_type": "stream",
     "text": [
      "\n",
      "\n",
      "====== WebDriver manager ======\n",
      "Current google-chrome version is 104.0.5112\n",
      "Get LATEST chromedriver version for 104.0.5112 google-chrome\n",
      "Driver [C:\\Users\\txrkc\\.wdm\\drivers\\chromedriver\\win32\\104.0.5112.79\\chromedriver.exe] found in cache\n",
      "C:\\Users\\txrkc\\AppData\\Local\\Temp/ipykernel_23260/1146160929.py:7: DeprecationWarning: executable_path has been deprecated, please pass in a Service object\n",
      "  browser = webdriver.Chrome(ChromeDriverManager().install(), options=options)\n",
      "C:\\Users\\txrkc\\AppData\\Local\\Temp/ipykernel_23260/1146160929.py:12: DeprecationWarning: find_elements_by_* commands are deprecated. Please use find_elements() instead\n",
      "  req1 = browser.find_elements_by_class_name(\"wordListMain\")\n",
      "C:\\Users\\txrkc\\AppData\\Local\\Temp/ipykernel_23260/1146160929.py:22: DeprecationWarning: find_elements_by_* commands are deprecated. Please use find_elements() instead\n",
      "  nextbutton = browser.find_elements_by_class_name(\"nextPage\")\n",
      "C:\\Users\\txrkc\\AppData\\Local\\Temp/ipykernel_23260/1146160929.py:29: DeprecationWarning: find_elements_by_* commands are deprecated. Please use find_elements() instead\n",
      "  req1 = browser.find_elements_by_class_name(\"wordListMain\")\n",
      "C:\\Users\\txrkc\\AppData\\Local\\Temp/ipykernel_23260/1146160929.py:33: DeprecationWarning: find_elements_by_* commands are deprecated. Please use find_elements() instead\n",
      "  nextbutton = browser.find_elements_by_class_name(\"nextPage\")\n"
     ]
    }
   ],
   "source": [
    "\n",
    "\n",
    "options = webdriver.ChromeOptions()\n",
    "# options.add_argument(\"--headless\")\n",
    "# options.add_experimental_option('excludeSwitches', ['enable-logging'])\n",
    "# options.use_chromium = True\n",
    "\n",
    "\n",
    "browser = webdriver.Chrome(ChromeDriverManager().install(), options=options)\n",
    "#browser.get('https://search.rakuten.co.jp/search/keyword/')\n",
    "browser.get('https://kakaku.com/keyword/')\n",
    "\n",
    "\n",
    "req1 = browser.find_elements_by_class_name(\"wordListMain\")\n",
    "keylist = req1[0].find_elements_by_tag_name('td')\n",
    "keyres = []\n",
    "# results = [\n",
    "#         {\n",
    "#         \"keyword\": key.text,\n",
    "#         \"rank\": a + 1,\n",
    "#         }for a, key in enumerate(keylist)\n",
    "#     ]\n",
    "\n",
    "nextbutton = browser.find_elements_by_class_name(\"nextPage\")\n",
    "res = [key.text for key in keylist]\n",
    "keyres.extend(res)\n",
    "\n",
    "while nextbutton:\n",
    "    nextbutton[0].click()\n",
    "    browser.implicitly_wait(10)\n",
    "    req1 = browser.find_elements_by_class_name(\"wordListMain\")\n",
    "    keylist = req1[0].find_elements_by_tag_name('td')\n",
    "    res = [key.text for key in keylist]\n",
    "    keyres.extend(res)\n",
    "    nextbutton = browser.find_elements_by_class_name(\"nextPage\")\n",
    "\n",
    "results = [\n",
    "    {\n",
    "    \"keyword\": key,\n",
    "    \"rank\": a + 1,\n",
    "    }for a, key in enumerate(keyres)\n",
    "]"
   ]
  },
  {
   "cell_type": "code",
   "execution_count": null,
   "id": "4e625f40-60d2-4f86-9d6f-f4f2aff46224",
   "metadata": {},
   "outputs": [],
   "source": [
    "\n",
    "data = sheet.get_all_values()\n",
    "df = pd.DataFrame(data[1:], columns=data[0])\n",
    "\n",
    "toprank = keycheck()\n",
    "today = datetime.date.today().strftime(\"%Y/%m/%d\")\n",
    "toprank[\"Date\"] = today\n",
    "df = df.append(toprank, ignore_index=True)"
   ]
  },
  {
   "cell_type": "code",
   "execution_count": null,
   "id": "2cb2c170-b806-4d44-a2b0-6cbac814471a",
   "metadata": {},
   "outputs": [],
   "source": []
  },
  {
   "cell_type": "code",
   "execution_count": null,
   "id": "959389c4-ff95-4327-8f82-143d0482c9c6",
   "metadata": {},
   "outputs": [],
   "source": []
  },
  {
   "cell_type": "code",
   "execution_count": null,
   "id": "78fa5336-4967-48a7-9acf-eaa3b7c8ec09",
   "metadata": {},
   "outputs": [],
   "source": []
  },
  {
   "cell_type": "code",
   "execution_count": null,
   "id": "a725e1e6-a8c5-46f0-b64d-89d404d2e3b8",
   "metadata": {},
   "outputs": [],
   "source": []
  }
 ],
 "metadata": {
  "kernelspec": {
   "display_name": "Python 3 (ipykernel)",
   "language": "python",
   "name": "python3"
  },
  "language_info": {
   "codemirror_mode": {
    "name": "ipython",
    "version": 3
   },
   "file_extension": ".py",
   "mimetype": "text/x-python",
   "name": "python",
   "nbconvert_exporter": "python",
   "pygments_lexer": "ipython3",
   "version": "3.9.7"
  }
 },
 "nbformat": 4,
 "nbformat_minor": 5
}
