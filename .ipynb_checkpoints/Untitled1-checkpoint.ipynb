{
 "cells": [
  {
   "cell_type": "code",
   "execution_count": 2,
   "id": "2756de61-3256-409f-9c69-ecea724562a2",
   "metadata": {},
   "outputs": [
    {
     "name": "stderr",
     "output_type": "stream",
     "text": [
      "C:\\Users\\txrkc\\anaconda3\\lib\\site-packages\\numpy\\__init__.py:143: UserWarning: mkl-service package failed to import, therefore Intel(R) MKL initialization ensuring its correct out-of-the box operation under condition when Gnu OpenMP had already been loaded by Python process is not assured. Please install mkl-service package, see http://github.com/IntelPython/mkl-service\n",
      "  from . import _distributor_init\n"
     ]
    },
    {
     "ename": "ImportError",
     "evalue": "Unable to import required dependencies:\nnumpy: \n\nIMPORTANT: PLEASE READ THIS FOR ADVICE ON HOW TO SOLVE THIS ISSUE!\n\nImporting the numpy C-extensions failed. This error can happen for\nmany reasons, often due to issues with your setup or how NumPy was\ninstalled.\n\nWe have compiled some common reasons and troubleshooting tips at:\n\n    https://numpy.org/devdocs/user/troubleshooting-importerror.html\n\nPlease note and check the following:\n\n  * The Python version is: Python3.9 from \"C:\\Users\\txrkc\\anaconda3\\python.exe\"\n  * The NumPy version is: \"1.20.3\"\n\nand make sure that they are the versions you expect.\nPlease carefully study the documentation linked above for further help.\n\nOriginal error was: DLL load failed while importing _multiarray_umath: 指定されたモジュールが見つかりません。\n",
     "output_type": "error",
     "traceback": [
      "\u001b[1;31m---------------------------------------------------------------------------\u001b[0m",
      "\u001b[1;31mImportError\u001b[0m                               Traceback (most recent call last)",
      "\u001b[1;32m~\\AppData\\Local\\Temp/ipykernel_23260/4166984087.py\u001b[0m in \u001b[0;36m<module>\u001b[1;34m\u001b[0m\n\u001b[0;32m      5\u001b[0m \u001b[1;32mfrom\u001b[0m \u001b[0mselenium\u001b[0m\u001b[1;33m.\u001b[0m\u001b[0mwebdriver\u001b[0m\u001b[1;33m.\u001b[0m\u001b[0mchrome\u001b[0m\u001b[1;33m.\u001b[0m\u001b[0moptions\u001b[0m \u001b[1;32mimport\u001b[0m \u001b[0mOptions\u001b[0m\u001b[1;33m\u001b[0m\u001b[1;33m\u001b[0m\u001b[0m\n\u001b[0;32m      6\u001b[0m \u001b[1;31m# from oauth2client.service_account import ServiceAccountCredentials\u001b[0m\u001b[1;33m\u001b[0m\u001b[1;33m\u001b[0m\u001b[0m\n\u001b[1;32m----> 7\u001b[1;33m \u001b[1;32mimport\u001b[0m \u001b[0mpandas\u001b[0m \u001b[1;32mas\u001b[0m \u001b[0mpd\u001b[0m\u001b[1;33m\u001b[0m\u001b[1;33m\u001b[0m\u001b[0m\n\u001b[0m\u001b[0;32m      8\u001b[0m \u001b[1;32mimport\u001b[0m \u001b[0mtime\u001b[0m\u001b[1;33m\u001b[0m\u001b[1;33m\u001b[0m\u001b[0m\n\u001b[0;32m      9\u001b[0m \u001b[1;32mimport\u001b[0m \u001b[0mdatetime\u001b[0m\u001b[1;33m\u001b[0m\u001b[1;33m\u001b[0m\u001b[0m\n",
      "\u001b[1;32m~\\anaconda3\\lib\\site-packages\\pandas\\__init__.py\u001b[0m in \u001b[0;36m<module>\u001b[1;34m\u001b[0m\n\u001b[0;32m     14\u001b[0m \u001b[1;33m\u001b[0m\u001b[0m\n\u001b[0;32m     15\u001b[0m \u001b[1;32mif\u001b[0m \u001b[0mmissing_dependencies\u001b[0m\u001b[1;33m:\u001b[0m\u001b[1;33m\u001b[0m\u001b[1;33m\u001b[0m\u001b[0m\n\u001b[1;32m---> 16\u001b[1;33m     raise ImportError(\n\u001b[0m\u001b[0;32m     17\u001b[0m         \u001b[1;34m\"Unable to import required dependencies:\\n\"\u001b[0m \u001b[1;33m+\u001b[0m \u001b[1;34m\"\\n\"\u001b[0m\u001b[1;33m.\u001b[0m\u001b[0mjoin\u001b[0m\u001b[1;33m(\u001b[0m\u001b[0mmissing_dependencies\u001b[0m\u001b[1;33m)\u001b[0m\u001b[1;33m\u001b[0m\u001b[1;33m\u001b[0m\u001b[0m\n\u001b[0;32m     18\u001b[0m     )\n",
      "\u001b[1;31mImportError\u001b[0m: Unable to import required dependencies:\nnumpy: \n\nIMPORTANT: PLEASE READ THIS FOR ADVICE ON HOW TO SOLVE THIS ISSUE!\n\nImporting the numpy C-extensions failed. This error can happen for\nmany reasons, often due to issues with your setup or how NumPy was\ninstalled.\n\nWe have compiled some common reasons and troubleshooting tips at:\n\n    https://numpy.org/devdocs/user/troubleshooting-importerror.html\n\nPlease note and check the following:\n\n  * The Python version is: Python3.9 from \"C:\\Users\\txrkc\\anaconda3\\python.exe\"\n  * The NumPy version is: \"1.20.3\"\n\nand make sure that they are the versions you expect.\nPlease carefully study the documentation linked above for further help.\n\nOriginal error was: DLL load failed while importing _multiarray_umath: 指定されたモジュールが見つかりません。\n"
     ]
    }
   ],
   "source": [
    "import requests\n",
    "from bs4 import BeautifulSoup as bs\n",
    "from selenium import webdriver\n",
    "from webdriver_manager.chrome import ChromeDriverManager\n",
    "from selenium.webdriver.chrome.options import Options\n",
    "# from oauth2client.service_account import ServiceAccountCredentials\n",
    "import pandas as pd\n",
    "import time\n",
    "import datetime\n",
    "import gspread\n",
    "import json\n",
    "\n",
    "# scope = ['https://spreadsheets.google.com/feeds','https://www.googleapis.com/auth/drive']\n",
    "# credentials = ServiceAccountCredentials.from_json_keyfile_name('angular-spider-312007-557058f7d529.json', scope)\n",
    "# gc = gspread.authorize(credentials)\n",
    "\n",
    "# SPREADSHEET_KEY = '1DNx5LcmrJyoxLKJM6qhasfM4CxlWOG9Yn1xmMUe2aDo'\n",
    "# sheet = gc.open_by_key(SPREADSHEET_KEY).worksheet('シート3')"
   ]
  },
  {
   "cell_type": "code",
   "execution_count": 21,
   "id": "0705cdd9-637d-4f97-9d47-fdc81ea449f7",
   "metadata": {
    "tags": []
   },
   "outputs": [
    {
     "name": "stderr",
     "output_type": "stream",
     "text": [
      "\n",
      "\n",
      "====== WebDriver manager ======\n",
      "Current google-chrome version is 104.0.5112\n",
      "Get LATEST chromedriver version for 104.0.5112 google-chrome\n",
      "Driver [C:\\Users\\txrkc\\.wdm\\drivers\\chromedriver\\win32\\104.0.5112.79\\chromedriver.exe] found in cache\n",
      "C:\\Users\\txrkc\\AppData\\Local\\Temp/ipykernel_23260/3085600410.py:7: DeprecationWarning: executable_path has been deprecated, please pass in a Service object\n",
      "  browser = webdriver.Chrome(ChromeDriverManager().install(), options=options)\n",
      "C:\\Users\\txrkc\\AppData\\Local\\Temp/ipykernel_23260/3085600410.py:12: DeprecationWarning: find_elements_by_* commands are deprecated. Please use find_elements() instead\n",
      "  req1 = browser.find_elements_by_class_name(\"wordListMain\")\n",
      "C:\\Users\\txrkc\\AppData\\Local\\Temp/ipykernel_23260/3085600410.py:22: DeprecationWarning: find_elements_by_* commands are deprecated. Please use find_elements() instead\n",
      "  nextbutton = browser.find_elements_by_class_name(\"nextPage\")\n"
     ]
    },
    {
     "ename": "NameError",
     "evalue": "name 'driver' is not defined",
     "output_type": "error",
     "traceback": [
      "\u001b[1;31m---------------------------------------------------------------------------\u001b[0m",
      "\u001b[1;31mNameError\u001b[0m                                 Traceback (most recent call last)",
      "\u001b[1;32m~\\AppData\\Local\\Temp/ipykernel_23260/3085600410.py\u001b[0m in \u001b[0;36m<module>\u001b[1;34m\u001b[0m\n\u001b[0;32m     26\u001b[0m \u001b[1;32mwhile\u001b[0m \u001b[0mnextbutton\u001b[0m\u001b[1;33m:\u001b[0m\u001b[1;33m\u001b[0m\u001b[1;33m\u001b[0m\u001b[0m\n\u001b[0;32m     27\u001b[0m     \u001b[0mnextbutton\u001b[0m\u001b[1;33m[\u001b[0m\u001b[1;36m0\u001b[0m\u001b[1;33m]\u001b[0m\u001b[1;33m.\u001b[0m\u001b[0mclick\u001b[0m\u001b[1;33m(\u001b[0m\u001b[1;33m)\u001b[0m\u001b[1;33m\u001b[0m\u001b[1;33m\u001b[0m\u001b[0m\n\u001b[1;32m---> 28\u001b[1;33m     \u001b[0mdriver\u001b[0m\u001b[1;33m.\u001b[0m\u001b[0mimplicitly_wait\u001b[0m\u001b[1;33m(\u001b[0m\u001b[1;36m10\u001b[0m\u001b[1;33m)\u001b[0m\u001b[1;33m\u001b[0m\u001b[1;33m\u001b[0m\u001b[0m\n\u001b[0m\u001b[0;32m     29\u001b[0m     \u001b[0mreq1\u001b[0m \u001b[1;33m=\u001b[0m \u001b[0mbrowser\u001b[0m\u001b[1;33m.\u001b[0m\u001b[0mfind_elements_by_class_name\u001b[0m\u001b[1;33m(\u001b[0m\u001b[1;34m\"wordListMain\"\u001b[0m\u001b[1;33m)\u001b[0m\u001b[1;33m\u001b[0m\u001b[1;33m\u001b[0m\u001b[0m\n\u001b[0;32m     30\u001b[0m     \u001b[0mkeylist\u001b[0m \u001b[1;33m=\u001b[0m \u001b[0mreq1\u001b[0m\u001b[1;33m[\u001b[0m\u001b[1;36m0\u001b[0m\u001b[1;33m]\u001b[0m\u001b[1;33m.\u001b[0m\u001b[0mfind_elements_by_tag_name\u001b[0m\u001b[1;33m(\u001b[0m\u001b[1;34m'td'\u001b[0m\u001b[1;33m)\u001b[0m\u001b[1;33m\u001b[0m\u001b[1;33m\u001b[0m\u001b[0m\n",
      "\u001b[1;31mNameError\u001b[0m: name 'driver' is not defined"
     ]
    }
   ],
   "source": [
    "\n",
    "\n",
    "options = webdriver.ChromeOptions()\n",
    "# options.add_argument(\"--headless\")\n",
    "# options.add_experimental_option('excludeSwitches', ['enable-logging'])\n",
    "# options.use_chromium = True\n",
    "\n",
    "\n",
    "browser = webdriver.Chrome(ChromeDriverManager().install(), options=options)\n",
    "#browser.get('https://search.rakuten.co.jp/search/keyword/')\n",
    "browser.get('https://kakaku.com/keyword/')\n",
    "\n",
    "\n",
    "req1 = browser.find_elements_by_class_name(\"wordListMain\")\n",
    "keylist = req1[0].find_elements_by_tag_name('td')\n",
    "keyres = []\n",
    "# results = [\n",
    "#         {\n",
    "#         \"keyword\": key.text,\n",
    "#         \"rank\": a + 1,\n",
    "#         }for a, key in enumerate(keylist)\n",
    "#     ]\n",
    "\n",
    "nextbutton = browser.find_elements_by_class_name(\"nextPage\")\n",
    "res = [key.text for key in keylist]\n",
    "keyres.extend(res)\n",
    "\n",
    "while nextbutton:\n",
    "    nextbutton[0].click()\n",
    "    browser.implicitly_wait(10)\n",
    "    req1 = browser.find_elements_by_class_name(\"wordListMain\")\n",
    "    keylist = req1[0].find_elements_by_tag_name('td')\n",
    "    res = [key.text for key in keylist]\n",
    "    keyres.extend(res)\n",
    "    nextbutton = browser.find_elements_by_class_name(\"nextPage\")\n",
    "    "
   ]
  },
  {
   "cell_type": "code",
   "execution_count": 9,
   "id": "4e625f40-60d2-4f86-9d6f-f4f2aff46224",
   "metadata": {},
   "outputs": [
    {
     "name": "stderr",
     "output_type": "stream",
     "text": [
      "C:\\Users\\txrkc\\AppData\\Local\\Temp/ipykernel_23260/1669233075.py:1: DeprecationWarning: find_elements_by_* commands are deprecated. Please use find_elements() instead\n",
      "  req1 = browser.find_elements_by_class_name(\"wordListMain\")\n"
     ]
    }
   ],
   "source": [
    "req1 = browser.find_elements_by_class_name(\"wordListMain\")\n",
    "keylist = req1[0].find_elements_by_tag_name('td')\n",
    "results2 = [\n",
    "        {\n",
    "        \"keyword\": key.text,\n",
    "        \"rank\": a + 1,\n",
    "        }for a, key in enumerate(keylist)\n",
    "    ]\n"
   ]
  },
  {
   "cell_type": "code",
   "execution_count": 14,
   "id": "2cb2c170-b806-4d44-a2b0-6cbac814471a",
   "metadata": {},
   "outputs": [],
   "source": [
    "res = [key.text for key in keylist]"
   ]
  },
  {
   "cell_type": "code",
   "execution_count": 8,
   "id": "959389c4-ff95-4327-8f82-143d0482c9c6",
   "metadata": {},
   "outputs": [
    {
     "name": "stderr",
     "output_type": "stream",
     "text": [
      "C:\\Users\\txrkc\\AppData\\Local\\Temp/ipykernel_23260/2023450115.py:1: DeprecationWarning: find_elements_by_* commands are deprecated. Please use find_elements() instead\n",
      "  nextbutton = browser.find_elements_by_class_name(\"nextPage\")\n"
     ]
    }
   ],
   "source": [
    "nextbutton = browser.find_elements_by_class_name(\"nextPage\")\n",
    "if nextbutton:\n",
    "    nextbutton[0].click()"
   ]
  },
  {
   "cell_type": "code",
   "execution_count": 19,
   "id": "78fa5336-4967-48a7-9acf-eaa3b7c8ec09",
   "metadata": {},
   "outputs": [
    {
     "data": {
      "text/plain": [
       "['ログハウス キット',\n",
       " 'ビニールプール 大型',\n",
       " 'nintendo switch proコントローラー',\n",
       " 'intex プール',\n",
       " '車庫 ガレージ',\n",
       " 'スポットクーラー',\n",
       " 'アイコス 本体',\n",
       " 'パルスオキシメーター',\n",
       " 'ネッククーラー',\n",
       " 'oofos ウーフォス リカバリーサンダル',\n",
       " '子供用 ビニールプール',\n",
       " 'ipad',\n",
       " '太陽光発電 ソーラーパネル',\n",
       " 'ハーゲンダッツ 業務用',\n",
       " '遮熱クールアップ 積水',\n",
       " 'キッズ 自転車 20インチ',\n",
       " 'ソテツ',\n",
       " 'エコカラット',\n",
       " 'yogibo',\n",
       " '着圧ソックス 医療用',\n",
       " '集音器',\n",
       " 'スイッチコントローラー',\n",
       " 'エーオーセプト',\n",
       " 'ゴルフナビ 腕時計型',\n",
       " 'フライングボール',\n",
       " '自転車 折りたたみ 激安',\n",
       " '玄関ドア',\n",
       " 'cbdオイル',\n",
       " '跳ね上げ式 眼鏡 メガネ フレーム',\n",
       " 'ガルバリウム鋼板',\n",
       " 'プレジャーボート',\n",
       " 'besv',\n",
       " 'やまぶどう籠',\n",
       " '万年青',\n",
       " 'アイスボックス',\n",
       " 'ワコーズ バリアスコート',\n",
       " '製氷機',\n",
       " 'ipad mini',\n",
       " 'ルーバー 雨戸',\n",
       " '物置 屋外',\n",
       " 'パーゴラ',\n",
       " 'apple watch バンド',\n",
       " '浴室暖房乾燥機',\n",
       " 'テレビ パナソニック ビエラ',\n",
       " '電気柵',\n",
       " 'ワイヤレスドアホン',\n",
       " 'インターロッキング',\n",
       " '窓用換気扇',\n",
       " 'ポカリ粉末',\n",
       " 'レカロシート',\n",
       " 'フォームローラー トリガーポイント',\n",
       " '蓄電池 ポータブル',\n",
       " 'エアウィーヴ',\n",
       " '軽トラ 幌',\n",
       " '竹 粉砕機',\n",
       " 'アラミック 節水シャワー ヘッド',\n",
       " '8tb hdd',\n",
       " 'スリングショット パチンコ',\n",
       " '空調服 セット',\n",
       " 'スタンガン',\n",
       " '真空包装機 業務用',\n",
       " 'パストリーゼ77',\n",
       " 'ワイヤレステレビチューナー',\n",
       " 'x-plosion - エクスプロージョン',\n",
       " 'コレクションケース',\n",
       " 'ウェブカメラ ワイヤレス',\n",
       " '3080',\n",
       " '勝手口ドア',\n",
       " 'パナソニック ボディトリマー',\n",
       " 'シムフリー スマホ',\n",
       " 'ゴッドガンダム',\n",
       " '安全帯 フルハーネス',\n",
       " 'アサヒスーパードライ 350ml',\n",
       " '玄関網戸 鍵付き',\n",
       " 'ザバーン 防草シート',\n",
       " 'iqos 本体',\n",
       " '竹鶴 ピュアモルト',\n",
       " 'レーザー彫刻機',\n",
       " 'ジプトーン',\n",
       " 'グリーンダカラ',\n",
       " 'dyson v10',\n",
       " 'コンタクト 洗浄液',\n",
       " 'ダニ捕りロボ 日革研究所',\n",
       " '水ヨーヨー セット',\n",
       " 't300rs',\n",
       " 'ポカリスエット 500ml×24本',\n",
       " 'ブラウン 洗浄液',\n",
       " 'タワーファン',\n",
       " '家庭用発電機',\n",
       " 'ユニットバス 3点',\n",
       " 'ブリジストン アンカー',\n",
       " '収納庫 ベランダ 小型物置',\n",
       " 'ジャンプスターター',\n",
       " '宅配ボックス 戸建',\n",
       " 'イワタニ 焼肉プレート',\n",
       " 'タフまる',\n",
       " 'メディキュット',\n",
       " 'タブレット android',\n",
       " '玄関網戸 マンション',\n",
       " 'ストレスレスチェア']"
      ]
     },
     "execution_count": 19,
     "metadata": {},
     "output_type": "execute_result"
    }
   ],
   "source": []
  },
  {
   "cell_type": "code",
   "execution_count": null,
   "id": "a725e1e6-a8c5-46f0-b64d-89d404d2e3b8",
   "metadata": {},
   "outputs": [],
   "source": []
  }
 ],
 "metadata": {
  "kernelspec": {
   "display_name": "Python 3 (ipykernel)",
   "language": "python",
   "name": "python3"
  },
  "language_info": {
   "codemirror_mode": {
    "name": "ipython",
    "version": 3
   },
   "file_extension": ".py",
   "mimetype": "text/x-python",
   "name": "python",
   "nbconvert_exporter": "python",
   "pygments_lexer": "ipython3",
   "version": "3.9.7"
  }
 },
 "nbformat": 4,
 "nbformat_minor": 5
}
